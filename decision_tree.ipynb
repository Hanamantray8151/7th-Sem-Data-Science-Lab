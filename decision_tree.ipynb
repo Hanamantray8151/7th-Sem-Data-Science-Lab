{
  "nbformat": 4,
  "nbformat_minor": 0,
  "metadata": {
    "kernelspec": {
      "display_name": "Python 3",
      "language": "python",
      "name": "python3"
    },
    "language_info": {
      "codemirror_mode": {
        "name": "ipython",
        "version": 3
      },
      "file_extension": ".py",
      "mimetype": "text/x-python",
      "name": "python",
      "nbconvert_exporter": "python",
      "pygments_lexer": "ipython3",
      "version": "3.8.5"
    },
    "colab": {
      "name": "ID3 vs CART.ipynb",
      "provenance": [],
      "include_colab_link": true
    }
  },
  "cells": [
    {
      "cell_type": "markdown",
      "metadata": {
        "id": "view-in-github",
        "colab_type": "text"
      },
      "source": [
        "<a href=\"https://colab.research.google.com/github/Hanamantray8151/7th-Sem-Data-Science-Lab/blob/main/decision_tree.ipynb\" target=\"_parent\"><img src=\"https://colab.research.google.com/assets/colab-badge.svg\" alt=\"Open In Colab\"/></a>"
      ]
    },
    {
      "cell_type": "code",
      "metadata": {
        "id": "BluUdQ6HNfKv"
      },
      "source": [
        "from sklearn.tree import DecisionTreeClassifier\n",
        "import pandas as pd\n",
        "from sklearn.model_selection import train_test_split\n",
        "import sklearn.metrics as met\n",
        "from sklearn import preprocessing"
      ],
      "execution_count": 29,
      "outputs": []
    },
    {
      "cell_type": "code",
      "metadata": {
        "id": "sCDVvwCvNfKy",
        "outputId": "b2512971-5578-4dec-fa08-656edad8c6fd",
        "colab": {
          "base_uri": "https://localhost:8080/"
        }
      },
      "source": [
        "cancer = pd.read_csv('breast-cancer.data',sep=\",\") \n",
        "df = pd.DataFrame(cancer)\n",
        "X = df.iloc[:,:-1].values\n",
        "Y = df.iloc[:,-1].values\n",
        "print(df.head())"
      ],
      "execution_count": 30,
      "outputs": [
        {
          "output_type": "stream",
          "name": "stdout",
          "text": [
            "   no-recurrence-events  30-39  premeno  30-34  ...  3   left   left_low no.1\n",
            "0  no-recurrence-events  40-49  premeno  20-24  ...  2  right   right_up   no\n",
            "1  no-recurrence-events  40-49  premeno  20-24  ...  2   left   left_low   no\n",
            "2  no-recurrence-events  60-69     ge40  15-19  ...  2  right    left_up   no\n",
            "3  no-recurrence-events  40-49  premeno    0-4  ...  2  right  right_low   no\n",
            "4  no-recurrence-events  60-69     ge40  15-19  ...  2   left   left_low   no\n",
            "\n",
            "[5 rows x 10 columns]\n"
          ]
        }
      ]
    },
    {
      "cell_type": "code",
      "metadata": {
        "id": "5Gpn0_V9NfKz",
        "outputId": "ff0f5a0b-e54e-402a-df28-1fa83f0c06fb",
        "colab": {
          "base_uri": "https://localhost:8080/"
        }
      },
      "source": [
        "le = preprocessing.LabelEncoder()\n",
        "id3_model = DecisionTreeClassifier(criterion = 'entropy') \n",
        "cart_model = DecisionTreeClassifier(criterion = 'gini') \n",
        "print(id3_model)\n",
        "print(cart_model)"
      ],
      "execution_count": 31,
      "outputs": [
        {
          "output_type": "stream",
          "name": "stdout",
          "text": [
            "DecisionTreeClassifier(criterion='entropy')\n",
            "DecisionTreeClassifier()\n"
          ]
        }
      ]
    },
    {
      "cell_type": "code",
      "metadata": {
        "id": "pCoKyXOkNfK0",
        "outputId": "dbfe8def-8d6f-4597-ec06-57b5df3ea6f4",
        "colab": {
          "base_uri": "https://localhost:8080/"
        }
      },
      "source": [
        "#For X-Variable\n",
        "for i in range(9): \n",
        "    le.fit(list(set(df.iloc[:,i].values))) \n",
        "    a =[]\n",
        "    for j in range(len(X)): \n",
        "        a.append(X[j][i])\n",
        "    a = le.transform(a)\n",
        "    for j in range(len(X)): \n",
        "        X[j][i] = a[j]\n",
        "\n",
        "#For Y-Variable\n",
        "le.fit(list(set(df.iloc[:,-1].values))) \n",
        "a =[]\n",
        "\n",
        "for j in range(len(X)): \n",
        "    a.append(Y[j])\n",
        "a = le.transform(a)\n",
        "for j in range(len(X)): \n",
        "    Y[j] = a[j]\n",
        "print(X)  \n",
        "print(Y) \n",
        "Y=Y.astype('int')\n",
        "Xtrain, Xtest, Ytrain, Ytest = train_test_split(X, Y, test_size =int(0.1*len(Y)), random_state = 1)\n",
        "print(Xtrain) \n",
        "print(Ytrain)"
      ],
      "execution_count": 32,
      "outputs": [
        {
          "output_type": "stream",
          "name": "stdout",
          "text": [
            "[[0 2 2 ... 1 1 5]\n",
            " [0 2 2 ... 1 0 2]\n",
            " [0 4 0 ... 1 1 3]\n",
            " ...\n",
            " [1 4 0 ... 0 1 3]\n",
            " [1 2 0 ... 2 0 2]\n",
            " [1 3 0 ... 2 0 2]]\n",
            "[0 0 0 0 0 0 0 0 0 0 0 0 0 0 0 0 0 0 0 0 0 0 0 0 0 0 0 0 0 0 0 0 0 0 0 0 0\n",
            " 0 0 0 0 0 0 0 0 0 0 0 0 0 0 0 0 0 0 0 0 0 0 0 0 0 0 0 0 0 0 0 0 0 0 0 0 0\n",
            " 0 0 0 0 0 0 0 0 0 0 0 0 0 0 0 0 0 0 0 0 0 0 0 0 0 0 0 0 0 0 0 0 0 0 0 0 0\n",
            " 0 0 0 0 0 0 0 0 0 0 0 0 0 0 0 1 0 1 1 1 0 0 1 0 1 1 1 0 0 0 0 1 0 1 1 1 0\n",
            " 0 0 0 0 1 0 1 0 0 0 0 1 0 1 1 1 0 0 1 0 1 1 0 0 0 1 1 0 0 1 1 1 1 1 1 1 1\n",
            " 0 1 0 0 1 1 0 0 1 0 0 1 1 0 0 0 0 0 0 0 0 0 0 0 0 0 0 0 0 0 0 0 0 0 0 0 1\n",
            " 0 1 1 0 1 0 1 0 0 1 1 1 1 0 0 0 1 1 0 1 0 1 1 1 1 0 0 0 1 0 0 0 0 1 1 1 0\n",
            " 0 1 0 0 0 0 0 1 0 1 0 1 0 1 1 0 1 1 0 1 1 0 1 0 0 0]\n",
            "[[0 2 2 ... 1 0 3]\n",
            " [0 2 2 ... 1 0 2]\n",
            " [0 3 2 ... 0 0 2]\n",
            " ...\n",
            " [0 3 2 ... 1 1 4]\n",
            " [1 2 2 ... 1 1 2]\n",
            " [0 2 2 ... 1 0 2]]\n",
            "[0 1 0 0 0 1 0 1 0 0 0 0 1 0 0 0 0 0 0 0 0 0 0 1 0 0 0 0 0 0 0 1 0 0 0 0 0\n",
            " 0 0 0 0 1 0 1 0 0 1 0 0 1 1 0 1 0 1 0 1 0 0 0 0 0 1 0 1 0 0 0 0 0 0 0 0 0\n",
            " 0 0 0 0 0 0 0 0 0 0 0 0 0 0 1 0 0 0 0 1 0 0 1 0 0 0 0 0 0 0 0 0 0 0 0 0 0\n",
            " 1 0 0 0 0 0 0 1 1 1 0 0 1 0 0 1 0 1 1 0 1 0 0 0 0 0 0 0 1 1 0 0 0 0 1 0 0\n",
            " 1 0 0 0 0 1 0 1 1 0 1 0 1 1 0 0 0 1 0 0 0 0 1 0 0 0 1 0 0 0 1 0 0 1 0 1 0\n",
            " 1 1 0 1 0 0 0 0 0 1 0 0 0 0 0 1 1 1 1 0 0 0 0 0 0 0 0 0 0 0 0 0 0 0 0 1 0\n",
            " 0 0 0 0 0 1 0 0 0 0 0 0 0 0 0 0 0 1 0 0 0 0 0 0 1 0 0 1 1 1 0 1 0 0 0]\n"
          ]
        }
      ]
    },
    {
      "cell_type": "code",
      "metadata": {
        "id": "vHv5guXOmrMt"
      },
      "source": [
        ""
      ],
      "execution_count": null,
      "outputs": []
    },
    {
      "cell_type": "code",
      "metadata": {
        "id": "Tj0drG2MNfK1"
      },
      "source": [
        "id3_model_trained = id3_model.fit(Xtrain,Ytrain) \n",
        "cart_model_trained = cart_model.fit(Xtrain,Ytrain) \n",
        "Ypredict_cart = cart_model_trained.predict(Xtest) \n",
        "Ypredict_id3 = id3_model_trained.predict(Xtest)"
      ],
      "execution_count": 11,
      "outputs": []
    },
    {
      "cell_type": "code",
      "metadata": {
        "id": "MhN07VH2NfK1",
        "outputId": "ee1047e4-9623-4a00-95fc-44d18cb1832a",
        "colab": {
          "base_uri": "https://localhost:8080/"
        }
      },
      "source": [
        "print(\"ID3 Tree Metrics\")\n",
        "print(\"Accuracy = \", met.accuracy_score(Ytest, Ypredict_id3))\n",
        "print(\"Error Rate = \",1-met.accuracy_score(Ytest, Ypredict_id3))\n",
        "print(\"Recall = \",met.recall_score(Ytest, Ypredict_id3,average ='weighted')) \n",
        "print(\"Precision = \",met.precision_score(Ytest,Ypredict_id3,average = 'weighted')) \n",
        "print(\"F-Measure = \",met.f1_score(Ytest, Ypredict_id3,average = 'weighted'))"
      ],
      "execution_count": 14,
      "outputs": [
        {
          "output_type": "stream",
          "name": "stdout",
          "text": [
            "ID3 Tree Metrics\n",
            "Accuracy =  0.75\n",
            "Error Rate =  0.25\n",
            "Recall =  0.75\n",
            "Precision =  0.7304347826086957\n",
            "F-Measure =  0.7298747763864044\n"
          ]
        }
      ]
    },
    {
      "cell_type": "code",
      "metadata": {
        "id": "1ugixbQ4NfK2",
        "outputId": "1c8bd0b8-8b4f-4362-96fe-ec663c25778c",
        "colab": {
          "base_uri": "https://localhost:8080/"
        }
      },
      "source": [
        "print(\"CART Tree Metrics\")\n",
        "print(\"Accuracy = \", met.accuracy_score(Ytest, Ypredict_cart))\n",
        "print(\"Error Rate = \",1-met.accuracy_score(Ytest, Ypredict_cart))\n",
        "print(\"Recall = \",met.recall_score(Ytest, Ypredict_cart,average ='weighted'))\n",
        "print(\"Precision = \",met.precision_score(Ytest,Ypredict_cart,average = 'weighted'))"
      ],
      "execution_count": 15,
      "outputs": [
        {
          "output_type": "stream",
          "name": "stdout",
          "text": [
            "CART Tree Metrics\n",
            "Accuracy =  0.7857142857142857\n",
            "Error Rate =  0.2142857142857143\n",
            "Recall =  0.7857142857142857\n",
            "Precision =  0.7797619047619048\n"
          ]
        }
      ]
    }
  ]
}